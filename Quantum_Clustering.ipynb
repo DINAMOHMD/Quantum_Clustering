{
 "cells": [
  {
   "cell_type": "markdown",
   "metadata": {
    "id": "ZQ_nSSFyyQMt"
   },
   "source": [
    "**Work team By:**   \n",
    "   \n",
    "*   Dina Mohamed Ismail Ali (dina.mohamed.ismail62@gmail.com)\n",
    "*   Eman Ramzy Ahmed (eman.ramzy.ahmed@gmail.com)\n",
    
    "\n",
    "\n"
   ]
  },
  {
   "cell_type": "markdown",
   "metadata": {
    "id": "76ACgTYWHsSh"
   },
   "source": [
    "## Quantum Clustering\n",
    "\n",
    "- determine the number of clusters\n",
    "- randomly initialize the centroids\n",
    "- measure distances between data points and the centroids >> Fidelity\n",
    "  - Initialize three separable states in the ground state. One is for the data point and the other two represent the centroid.\n",
    "  - choose your encoding scheme\n",
    "  - using a for loop you will pick a classical point to measure the distance between the centroids and this sample.\n",
    "  - encode the data using the encoding scheme (rotational gates)\n",
    "  - apply the selected rotational gates on the states\n",
    "  - then calculate the fidelity between the two states (one state would represent the data point and the other would represent the centroid\n",
    "\n",
    "- assign data points to the nearest centroid\n",
    "- update the position of the centroid according to the mean of each cluster"
   ]
  },
  {
   "cell_type": "markdown",
   "metadata": {
    "id": "ueiKTuNVIrQ7"
   },
   "source": [
    "## Task!\n",
    "\n",
    "Implement a quantum clustering algorithm using the above steps to cluster a dataset of your own choice.\n",
    "\n",
    "- I would prefer two clusters only but do as you wish.\n",
    "- Use Numpy only.\n",
    "- Before each cell I want a small description of what is happening.\n",
    "- Write your code in functions.\n",
    "- Each function should execute one operation only.\n",
    "- Annotate your code and document it."
   ]
  },
  {
   "cell_type": "markdown",
   "metadata": {
    "id": "qqgKOFYHGsi0"
   },
   "source": [
    "## Import Libraries"
   ]
  },
  {
   "cell_type": "code",
   "execution_count": 1,
   "metadata": {
    "id": "lK3__QX2GhHz"
   },
   "outputs": [],
   "source": [
    "import numpy as np\n",
    "import matplotlib.pyplot as plt\n",
    "\n",
    "from qiskit.visualization import array_to_latex\n",
    "from qiskit.circuit.library import XGate, ZGate, YGate, HGate, RXGate, RYGate\n",
    "\n",
    "from sklearn.pipeline import Pipeline\n",
    "from sklearn.base import BaseEstimator, TransformerMixin"
   ]
  },
  {
   "cell_type": "markdown",
   "metadata": {
    "id": "3ruCeeUlJOdR"
   },
   "source": [
    "**Step 1:** determine the number of clusters"
   ]
  },
  {
   "cell_type": "code",
   "execution_count": 2,
   "metadata": {
    "id": "8cehf4nVImu-"
   },
   "outputs": [],
   "source": [
    "no_clusters = 2"
   ]
  },
  {
   "cell_type": "markdown",
   "metadata": {
    "id": "Ly7VFSRtsZEl"
   },
   "source": [
    "**Step 2:** randomly initialize the centroids"
   ]
  },
  {
   "cell_type": "code",
   "execution_count": 3,
   "metadata": {
    "id": "NRmdHyZ3sZEl"
   },
   "outputs": [],
   "source": [
    "def init_centroids(data: np.ndarray, k: int) -> np.ndarray:\n",
    "    \"\"\"\n",
    "    Initialize centroids for clustering.\n",
    "\n",
    "    Args:\n",
    "        data (numpy.ndarray): Input data points.\n",
    "        k (int): Number of clusters.\n",
    "\n",
    "    Returns:\n",
    "        numpy.ndarray: Centroids.\n",
    "    \"\"\"\n",
    "\n",
    "    centroids_indices = np.random.choice(data.shape[0], k, replace=False)\n",
    "    centroids = data[centroids_indices]\n",
    "    return centroids\n"
   ]
  },
  {
   "cell_type": "markdown",
   "metadata": {
    "id": "XNa_WJKssZEn"
   },
   "source": [
    "**Step 3:** calculate fidelity"
   ]
  },
  {
   "cell_type": "code",
   "execution_count": 4,
   "metadata": {
    "id": "hD4t_7h0Immg"
   },
   "outputs": [],
   "source": [
    "def calculate_fidelity(data_point: np.ndarray, centroid: np.ndarray) -> float:\n",
    "    \"\"\"\n",
    "    Calculate fidelity between a data point and a centroid.\n",
    "\n",
    "    Args:\n",
    "        data_point (numpy.ndarray): Data point.\n",
    "        centroid (numpy.ndarray): Centroid.\n",
    "\n",
    "    Returns:\n",
    "        float: Fidelity.\n",
    "    \"\"\"\n",
    "    fidelity = np.dot(data_point.conj().T, centroid)\n",
    "    return fidelity"
   ]
  },
  {
   "cell_type": "markdown",
   "metadata": {
    "id": "uga0Fro1NdoR"
   },
   "source": [
    "**Step 4:** initialize ground state"
   ]
  },
  {
   "cell_type": "code",
   "execution_count": 5,
   "metadata": {
    "id": "Kzb_NmjGeTcl"
   },
   "outputs": [],
   "source": [
    "def init_state() -> np.ndarray:\n",
    "    \"\"\"\n",
    "    Initialize quantum state.\n",
    "\n",
    "    Returns:\n",
    "        numpy.ndarray: Quantum state.\n",
    "    \"\"\"\n",
    "    zero_vector = np.array([[1], [0]])\n",
    "    return zero_vector\n"
   ]
  },
  {
   "cell_type": "markdown",
   "metadata": {
    "id": "QriblQQdsZEu"
   },
   "source": [
    "**Step 5:** encode data"
   ]
  },
  {
   "cell_type": "code",
   "execution_count": 6,
   "metadata": {
    "id": "A4_eX6KZImhi"
   },
   "outputs": [],
   "source": [
    "def encode_data(state: np.ndarray, data: float) -> np.ndarray:\n",
    "    \"\"\"\n",
    "    Encode data using quantum gates.\n",
    "\n",
    "    Args:\n",
    "        state (numpy.ndarray): Initial quantum state.\n",
    "        data (float): Data point or centroid.\n",
    "\n",
    "    Returns:\n",
    "        numpy.ndarray: Encoded state.\n",
    "    \"\"\"\n",
    "\n",
    "    state = init_state()\n",
    "    ry = RYGate(float(data)).to_matrix()\n",
    "    evolved_state = ry @ state\n",
    "\n",
    "    return evolved_state"
   ]
  },
  {
   "cell_type": "markdown",
   "metadata": {
    "id": "PkB-cpoFsZEx"
   },
   "source": [
    "**Step 6:** assign data points to the nearest centroid"
   ]
  },
  {
   "cell_type": "code",
   "execution_count": 7,
   "metadata": {
    "id": "__DKxGLAsZEy"
   },
   "outputs": [],
   "source": [
    "def find_closest_centoids(data: np.ndarray, centroids: np.ndarray) -> np.ndarray:\n",
    "    \"\"\"\n",
    "    Assign data points to the nearest centroid.\n",
    "\n",
    "    Args:\n",
    "        data (numpy.ndarray): Input data points.\n",
    "        centroids (numpy.ndarray): Centroids.\n",
    "\n",
    "    Returns:\n",
    "        numpy.ndarray: Cluster labels.\n",
    "    \"\"\"\n",
    "\n",
    "    cluster_labels = np.zeros(data.shape[0])\n",
    "    for i, data_point in enumerate(data):\n",
    "        # Encode data points and centroids, calculate fidelity\n",
    "        fidelity_to_centroids = [calculate_fidelity(encode_data(init_state(), data_point), encode_data(init_state(), centroid)) for centroid in centroids]\n",
    "\n",
    "        # Assign the data point to the nearest centroid\n",
    "        cluster_labels[i] = np.argmax(fidelity_to_centroids)\n",
    "\n",
    "    return cluster_labels"
   ]
  },
  {
   "cell_type": "markdown",
   "metadata": {
    "id": "NNDLA1McsZEz"
   },
   "source": [
    "**Step 8:** update the position of the centroid according to the mean of each cluster"
   ]
  },
  {
   "cell_type": "code",
   "execution_count": 8,
   "metadata": {
    "id": "2GCB00eBsZE0"
   },
   "outputs": [],
   "source": [
    "def update_centroids(data: np.ndarray, k: int, centroids: np.ndarray, cluster_labels: np.ndarray) -> tuple:\n",
    "    \"\"\"\n",
    "    Update centroids until convergence.\n",
    "\n",
    "    Args:\n",
    "        data (numpy.ndarray): Input data points.\n",
    "        k (int): Number of clusters.\n",
    "        centroids (numpy.ndarray): Initial centroids.\n",
    "        cluster_labels (numpy.ndarray): Cluster labels.\n",
    "\n",
    "    Returns:\n",
    "        Tuple[numpy.ndarray, numpy.ndarray]: Updated cluster labels and centroids.\n",
    "    \"\"\"\n",
    "\n",
    "    prev_centroids = None\n",
    "    while not np.array_equal(centroids, prev_centroids):\n",
    "        prev_centroids = centroids\n",
    "\n",
    "        # Update centroids according to the mean of each cluster\n",
    "        for i in range(k):\n",
    "            cluster_points = data[cluster_labels == i]\n",
    "            centroids[i] = np.mean(cluster_points, axis=0)\n",
    "\n",
    "        # Re-assign data points to the nearest centroid\n",
    "        cluster_labels = np.zeros(data.shape[0])\n",
    "        for i, data_point in enumerate(data):\n",
    "            fidelity_to_centroids = [calculate_fidelity(encode_data(init_state(), data_point), encode_data(init_state(), centroid)) for centroid in centroids]\n",
    "            cluster_labels[i] = np.argmax(fidelity_to_centroids)\n",
    "\n",
    "    return cluster_labels, centroids"
   ]
  },
  {
   "cell_type": "markdown",
   "metadata": {
    "id": "jUmQK8I3sZE1"
   },
   "source": [
    "**Step 9:** Quantum Clustering"
   ]
  },
  {
   "cell_type": "code",
   "execution_count": 9,
   "metadata": {
    "id": "EqgHmSTwImcl"
   },
   "outputs": [],
   "source": [
    "def quantum_clustering(data: np.ndarray, k: int = 2) -> tuple:\n",
    "    \"\"\"\n",
    "    Perform quantum clustering.\n",
    "\n",
    "    Args:\n",
    "        data (numpy.ndarray): Input data points.\n",
    "        k (int): Number of clusters.\n",
    "\n",
    "    Returns:\n",
    "        Tuple[numpy.ndarray, numpy.ndarray]: Cluster labels and centroids.\n",
    "    \"\"\"\n",
    "    # Step 1: Initialize centroids randomly\n",
    "    centroids = init_centroids(data, k)\n",
    "\n",
    "    # Step 2: Assign data points to the nearest centroid\n",
    "    cluster_labels = find_closest_centoids(data, centroids)\n",
    "\n",
    "    # Step 3: Update centroids until convergence\n",
    "    cluster_labels, centroids = update_centroids(data, k, centroids, cluster_labels)\n",
    "\n",
    "    return cluster_labels, centroids"
   ]
  },
  {
   "cell_type": "markdown",
   "metadata": {
    "id": "9v-sIQsVG86j"
   },
   "source": [
    "**Step 10:** predict function"
   ]
  },
  {
   "cell_type": "code",
   "execution_count": 10,
   "metadata": {
    "id": "5UHyNG8XsZE6"
   },
   "outputs": [],
   "source": [
    "def predict(new_data: np.ndarray, centroids: np.ndarray) -> np.ndarray:\n",
    "    \"\"\"\n",
    "    Predict cluster labels for new data.\n",
    "\n",
    "    Args:\n",
    "        new_data (numpy.ndarray): New data points.\n",
    "        centroids (numpy.ndarray): Cluster centroids.\n",
    "\n",
    "    Returns:\n",
    "        numpy.ndarray: Predicted cluster labels for new data.\n",
    "    \"\"\"\n",
    "\n",
    "    cluster_labels = np.zeros(new_data.shape[0])\n",
    "    for i, data_point in enumerate(new_data):\n",
    "        # Calculate fidelity to centroids\n",
    "        fidelity_to_centroids = [calculate_fidelity(encode_data(init_state(), data_point), encode_data(init_state(), centroid)) for centroid in centroids]\n",
    "        # Assign the data point to the nearest centroid\n",
    "        cluster_labels[i] = np.argmax(fidelity_to_centroids)\n",
    "\n",
    "    return cluster_labels"
   ]
  },
  {
   "cell_type": "markdown",
   "metadata": {
    "id": "B4UnGjXEJdDB"
   },
   "source": [
    "## generate data"
   ]
  },
  {
   "cell_type": "code",
   "execution_count": 46,
   "metadata": {
    "id": "oFpTDwL5Imrl"
   },
   "outputs": [],
   "source": [
    "def generate_data(num_of_samples: int) -> np.ndarray:\n",
    "    \"\"\"\n",
    "    Generate synthetic data for training.\n",
    "\n",
    "    Args:\n",
    "        num_of_samples (int): Number of samples.\n",
    "\n",
    "    Returns:\n",
    "        numpy.ndarray: Synthetic data.\n",
    "    \"\"\"\n",
    "\n",
    "    x1 = np.random.normal(2, 0.1, num_of_samples)\n",
    "    y1 = np.ones(len(x1))\n",
    "\n",
    "    x2 = np.random.normal(-2, 0.1, num_of_samples)\n",
    "    y2 = np.zeros(len(x2))\n",
    "\n",
    "    data_with_labels = np.vstack((np.hstack((x1, x2)), np.hstack((y1, y2)))).T\n",
    "\n",
    "    return data_with_labels"
   ]
  },
  {
   "cell_type": "code",
   "execution_count": 47,
   "metadata": {
    "id": "yQJtpNyMsZE-"
   },
   "outputs": [],
   "source": [
    "data = generate_data(100)"
   ]
  },
  {
   "cell_type": "code",
   "execution_count": 48,
   "metadata": {
    "colab": {
     "base_uri": "https://localhost:8080/",
     "height": 430
    },
    "id": "UNBhYV3osZE_",
    "outputId": "b8ba5c32-69e8-45e1-8206-6fc50b504dda"
   },
   "outputs": [
    {
     "data": {
      "image/png": "[encoded data removed]",
      "text/plain": [
       "<Figure size 432x288 with 1 Axes>"
      ]
     },
     "metadata": {
      "needs_background": "light"
     },
     "output_type": "display_data"
    }
   ],
   "source": [
    "plt.scatter(data[:,0], data[:,1]);"
   ]
  },
  {
   "cell_type": "code",
   "execution_count": 49,
   "metadata": {
    "id": "o7p3CX63sZFE"
   },
   "outputs": [],
   "source": [
    "feature = data[:, 0]"
   ]
  },
  {
   "cell_type": "code",
   "execution_count": 45,
   "metadata": {
    "id": "UAdHmD2bImX-"
   },
   "outputs": [],
   "source": [
    "cluster_labels, centroids = quantum_clustering(feature, no_clusters)"
   ]
  },
  {
   "cell_type": "code",
   "execution_count": 16,
   "metadata": {
    "colab": {
     "base_uri": "https://localhost:8080/"
    },
    "id": "vPhZKIBFsZFH",
    "outputId": "9559f129-0997-4e91-d2dd-0d15b6e32df0"
   },
   "outputs": [
    {
     "name": "stdout",
     "output_type": "stream",
     "text": [
      "[1. 1. 1. 1. 1. 1. 1. 1. 1. 1. 1. 1. 1. 1. 1. 1. 1. 1. 1. 1. 1. 1. 1. 1.\n",
      " 1. 1. 1. 1. 1. 1. 1. 1. 1. 1. 1. 1. 1. 1. 1. 1. 1. 1. 1. 1. 1. 1. 1. 1.\n",
      " 1. 1. 1. 1. 1. 1. 1. 1. 1. 1. 1. 1. 1. 1. 1. 1. 1. 1. 1. 1. 1. 1. 1. 1.\n",
      " 1. 1. 1. 1. 1. 1. 1. 1. 1. 1. 1. 1. 1. 1. 1. 1. 1. 1. 1. 1. 1. 1. 1. 1.\n",
      " 1. 1. 1. 1. 0. 0. 0. 0. 0. 0. 0. 0. 0. 0. 0. 0. 0. 0. 0. 0. 0. 0. 0. 0.\n",
      " 0. 0. 0. 0. 0. 0. 0. 0. 0. 0. 0. 0. 0. 0. 0. 0. 0. 0. 0. 0. 0. 0. 0. 0.\n",
      " 0. 0. 0. 0. 0. 0. 0. 0. 0. 0. 0. 0. 0. 0. 0. 0. 0. 0. 0. 0. 0. 0. 0. 0.\n",
      " 0. 0. 0. 0. 0. 0. 0. 0. 0. 0. 0. 0. 0. 0. 0. 0. 0. 0. 0. 0. 0. 0. 0. 0.\n",
      " 0. 0. 0. 0. 0. 0. 0. 0.]\n"
     ]
    }
   ],
   "source": [
    "print(cluster_labels)"
   ]
  },
  {
   "cell_type": "code",
   "execution_count": 17,
   "metadata": {
    "colab": {
     "base_uri": "https://localhost:8080/"
    },
    "id": "DI5r-wxfsZFJ",
    "outputId": "5f1b73d5-35e4-4095-db56-7a60070bb456"
   },
   "outputs": [
    {
     "name": "stdout",
     "output_type": "stream",
     "text": [
      "[-2.00622462  2.00381039]\n"
     ]
    }
   ],
   "source": [
    "print(centroids)"
   ]
  },
  {
   "cell_type": "code",
   "execution_count": 18,
   "metadata": {
    "colab": {
     "base_uri": "https://localhost:8080/",
     "height": 447
    },
    "id": "3yPVrkvusZFL",
    "outputId": "7759395a-ad0b-4aff-d36e-264a1b6b3475"
   },
   "outputs": [
    {
     "data": {
      "text/plain": [
       "<matplotlib.collections.PathCollection at 0x1e8730bb3a0>"
      ]
     },
     "execution_count": 18,
     "metadata": {},
     "output_type": "execute_result"
    },
    {
     "data": {
      "image/png": "[encoded data removed]",
      "text/plain": [
       "<Figure size 432x288 with 1 Axes>"
      ]
     },
     "metadata": {
      "needs_background": "light"
     },
     "output_type": "display_data"
    }
   ],
   "source": [
    "plt.scatter(feature, cluster_labels, c=cluster_labels)"
   ]
  },
  {
   "cell_type": "code",
   "execution_count": 19,
   "metadata": {
    "colab": {
     "base_uri": "https://localhost:8080/"
    },
    "id": "SXGTKD5gsZFN",
    "outputId": "75237f8a-7dca-4d90-f2a3-c9fc60ce10c7"
   },
   "outputs": [
    {
     "name": "stdout",
     "output_type": "stream",
     "text": [
      "[1.]\n"
     ]
    }
   ],
   "source": [
    "data_point = np.array([2])\n",
    "cluster_label = predict(data_point, centroids)\n",
    "\n",
    "print(cluster_label)"
   ]
  },
  {
   "cell_type": "code",
   "execution_count": 20,
   "metadata": {
    "colab": {
     "base_uri": "https://localhost:8080/"
    },
    "id": "vAwk1xi2sZFP",
    "outputId": "9c9ce015-d130-494b-a01a-b0b9f528e3ea"
   },
   "outputs": [
    {
     "name": "stdout",
     "output_type": "stream",
     "text": [
      "[1.]\n"
     ]
    }
   ],
   "source": [
    "data_point = np.array([.001])\n",
    "cluster_label = predict(data_point, centroids)\n",
    "\n",
    "print(cluster_label)"
   ]
  },
  {
   "cell_type": "code",
   "execution_count": 21,
   "metadata": {
    "colab": {
     "base_uri": "https://localhost:8080/"
    },
    "id": "bfDZw3xbsZFQ",
    "outputId": "e33cf030-4fcc-4fda-c1b2-a56313f86b34"
   },
   "outputs": [
    {
     "name": "stdout",
     "output_type": "stream",
     "text": [
      "[0.]\n"
     ]
    }
   ],
   "source": [
    "data_point = np.array([-3])\n",
    "cluster_label = predict(data_point, centroids)\n",
    "\n",
    "print(cluster_label)"
   ]
  },
  {
   "cell_type": "markdown",
   "metadata": {
    "id": "zgrSgKy3sZFS"
   },
   "source": [
    "#### Another data"
   ]
  },
  {
   "cell_type": "code",
   "execution_count": 22,
   "metadata": {
    "id": "T1DJQVMxsZFT"
   },
   "outputs": [],
   "source": [
    "feature2 = np.random.randint(5, 100, size=200)"
   ]
  },
  {
   "cell_type": "code",
   "execution_count": 23,
   "metadata": {
    "id": "EElqGIy1sZFU"
   },
   "outputs": [],
   "source": [
    "cluster_labels, centroids = quantum_clustering(feature2, no_clusters)"
   ]
  },
  {
   "cell_type": "code",
   "execution_count": 24,
   "metadata": {
    "colab": {
     "base_uri": "https://localhost:8080/"
    },
    "id": "m0NvZkU2sZFn",
    "outputId": "8d205afa-2efb-4931-e64f-d0402a93d0ce"
   },
   "outputs": [
    {
     "name": "stdout",
     "output_type": "stream",
     "text": [
      "[0. 0. 1. 1. 1. 1. 1. 0. 1. 1. 1. 0. 1. 1. 1. 0. 0. 0. 0. 0. 0. 0. 0. 0.\n",
      " 0. 1. 1. 0. 1. 0. 1. 1. 0. 0. 0. 0. 1. 0. 1. 0. 1. 0. 0. 1. 0. 1. 0. 0.\n",
      " 1. 1. 0. 1. 1. 0. 1. 0. 1. 0. 0. 0. 0. 1. 0. 1. 1. 1. 1. 0. 1. 0. 0. 0.\n",
      " 0. 1. 0. 1. 0. 0. 1. 1. 1. 0. 1. 1. 0. 1. 0. 0. 1. 1. 0. 0. 0. 1. 0. 0.\n",
      " 1. 1. 0. 1. 0. 0. 0. 1. 0. 0. 0. 1. 1. 0. 0. 1. 0. 0. 0. 1. 0. 1. 1. 0.\n",
      " 1. 1. 0. 1. 0. 1. 0. 1. 1. 0. 1. 1. 1. 0. 0. 1. 1. 1. 1. 0. 0. 0. 0. 0.\n",
      " 0. 0. 1. 1. 0. 1. 1. 0. 1. 1. 1. 0. 1. 1. 0. 1. 1. 0. 1. 1. 1. 1. 1. 0.\n",
      " 0. 1. 0. 1. 1. 1. 0. 1. 0. 1. 0. 1. 0. 0. 0. 1. 1. 1. 0. 1. 0. 1. 1. 0.\n",
      " 0. 1. 0. 0. 0. 1. 1. 1.]\n"
     ]
    }
   ],
   "source": [
    "print(cluster_labels)"
   ]
  },
  {
   "cell_type": "code",
   "execution_count": 25,
   "metadata": {
    "colab": {
     "base_uri": "https://localhost:8080/"
    },
    "id": "1jFE5biqsZFo",
    "outputId": "b1620da8-0a21-4c85-e40f-5005d9b20bdd"
   },
   "outputs": [
    {
     "name": "stdout",
     "output_type": "stream",
     "text": [
      "[47 50]\n"
     ]
    }
   ],
   "source": [
    "print(centroids)"
   ]
  },
  {
   "cell_type": "code",
   "execution_count": 26,
   "metadata": {
    "colab": {
     "base_uri": "https://localhost:8080/",
     "height": 447
    },
    "id": "4ppY8_NusZF7",
    "outputId": "376a4374-31f8-42e3-ff3d-34bbf17a2993"
   },
   "outputs": [
    {
     "data": {
      "text/plain": [
       "<matplotlib.collections.PathCollection at 0x1e8730f8d60>"
      ]
     },
     "execution_count": 26,
     "metadata": {},
     "output_type": "execute_result"
    },
    {
     "data": {
      "image/png": "[encoded data removed]",
      "text/plain": [
       "<Figure size 432x288 with 1 Axes>"
      ]
     },
     "metadata": {
      "needs_background": "light"
     },
     "output_type": "display_data"
    }
   ],
   "source": [
    "plt.scatter(feature2, cluster_labels, c=cluster_labels)"
   ]
  },
  {
   "cell_type": "code",
   "execution_count": 27,
   "metadata": {
    "colab": {
     "base_uri": "https://localhost:8080/"
    },
    "id": "FL7NqeyF1gWk",
    "outputId": "5f8a89b1-4d5a-4843-86a4-8e058c8c731f"
   },
   "outputs": [
    {
     "name": "stdout",
     "output_type": "stream",
     "text": [
      "[1.]\n"
     ]
    }
   ],
   "source": [
    "data_point = np.array([100])\n",
    "cluster_label = predict(data_point, centroids)\n",
    "\n",
    "print(cluster_label)"
   ]
  },
  {
   "cell_type": "code",
   "execution_count": 28,
   "metadata": {
    "colab": {
     "base_uri": "https://localhost:8080/"
    },
    "id": "I5-SSo0O14JE",
    "outputId": "63ca14d9-7f62-4242-acc7-44d6aca377be"
   },
   "outputs": [
    {
     "name": "stdout",
     "output_type": "stream",
     "text": [
      "[1.]\n"
     ]
    }
   ],
   "source": [
    "data_point = np.array([90])\n",
    "cluster_label = predict(data_point, centroids)\n",
    "\n",
    "print(cluster_label)"
   ]
  },
  {
   "cell_type": "markdown",
   "metadata": {},
   "source": [
    "## K-mean "
   ]
  },
  {
   "cell_type": "code",
   "execution_count": 50,
   "metadata": {},
   "outputs": [],
   "source": [
    "class K_means:\n",
    "    def __init__(self, k=2):\n",
    "        self.k = k\n",
    "        self.centroids = None\n",
    "        self.fidelity = None\n",
    "        self.zero_vector = None\n",
    "        self.cluster_labels = np.zeros(data.shape[0])\n",
    "        \n",
    "    def init_centroids(self, data: np.ndarray) -> np.ndarray:\n",
    "        \"\"\"\n",
    "        Initialize centroids for clustering.\n",
    "\n",
    "        Args:\n",
    "            data (numpy.ndarray): Input data points.\n",
    "            k (int): Number of clusters.\n",
    "\n",
    "        Returns:\n",
    "            numpy.ndarray: Centroids.\n",
    "        \"\"\"\n",
    "\n",
    "        centroids_indices = np.random.choice(data.shape[0], self.k, replace=False)\n",
    "        self.centroids = data[centroids_indices]\n",
    "        return self.centroids\n",
    "    \n",
    "    def calculate_fidelity(self, data_point: np.ndarray, centroid: np.ndarray) -> float:\n",
    "        \"\"\"\n",
    "        Calculate fidelity between a data point and a centroid.\n",
    "\n",
    "        Args:\n",
    "            data_point (numpy.ndarray): Data point.\n",
    "            centroid (numpy.ndarray): Centroid.\n",
    "\n",
    "        Returns:\n",
    "            float: Fidelity.\n",
    "        \"\"\"\n",
    "        self.fidelity = np.dot(data_point.conj().T, centroid)\n",
    "        return self.fidelity\n",
    "    \n",
    "    def init_state(self) -> np.ndarray:\n",
    "        \"\"\"\n",
    "        Initialize quantum state.\n",
    "\n",
    "        Returns:\n",
    "            numpy.ndarray: Quantum state.\n",
    "        \"\"\"\n",
    "        self.zero_vector = np.array([[1], [0]])\n",
    "        return self.zero_vector\n",
    "    \n",
    "    def encode_data(self, state: np.ndarray, data: float) -> np.ndarray:\n",
    "        \"\"\"\n",
    "        Encode data using quantum gates.\n",
    "\n",
    "        Args:\n",
    "            state (numpy.ndarray): Initial quantum state.\n",
    "            data (float): Data point or centroid.\n",
    "\n",
    "        Returns:\n",
    "            numpy.ndarray: Encoded state.\n",
    "        \"\"\"\n",
    "\n",
    "        state = self.init_state()\n",
    "        ry = RYGate(float(data)).to_matrix()\n",
    "        evolved_state = ry @ state\n",
    "\n",
    "        return evolved_state\n",
    "    \n",
    "    def find_closest_centoids(self, data: np.ndarray, centroids: np.ndarray) -> np.ndarray:\n",
    "        \"\"\"\n",
    "        Assign data points to the nearest centroid.\n",
    "\n",
    "        Args:\n",
    "            data (numpy.ndarray): Input data points.\n",
    "            centroids (numpy.ndarray): Centroids.\n",
    "\n",
    "        Returns:\n",
    "            numpy.ndarray: Cluster labels.\n",
    "        \"\"\"\n",
    "\n",
    "        for i, data_point in enumerate(data):\n",
    "            # Encode data points and centroids, calculate fidelity\n",
    "            fidelity_to_centroids = [self.calculate_fidelity(self.encode_data(self.init_state(), data_point), self.encode_data(self.init_state(), centroid)) for centroid in centroids]\n",
    "\n",
    "            # Assign the data point to the nearest centroid\n",
    "            self.cluster_labels[i] = np.argmax(fidelity_to_centroids)\n",
    "\n",
    "        return self.cluster_labels\n",
    "    \n",
    "    def update_centroids(self, data: np.ndarray, k: int, centroids: np.ndarray, cluster_labels: np.ndarray) -> tuple:\n",
    "        \"\"\"\n",
    "        Update centroids until convergence.\n",
    "\n",
    "        Args:\n",
    "            data (numpy.ndarray): Input data points.\n",
    "            k (int): Number of clusters.\n",
    "            centroids (numpy.ndarray): Initial centroids.\n",
    "            cluster_labels (numpy.ndarray): Cluster labels.\n",
    "\n",
    "        Returns:\n",
    "            Tuple[numpy.ndarray, numpy.ndarray]: Updated cluster labels and centroids.\n",
    "        \"\"\"\n",
    "\n",
    "        prev_centroids = None\n",
    "        while not np.array_equal(centroids, prev_centroids):\n",
    "            prev_centroids = centroids\n",
    "\n",
    "            # Update centroids according to the mean of each cluster\n",
    "            for i in range(k):\n",
    "                cluster_points = data[cluster_labels == i]\n",
    "                centroids[i] = np.mean(cluster_points, axis=0)\n",
    "\n",
    "            # Re-assign data points to the nearest centroid\n",
    "            cluster_labels = np.zeros(data.shape[0])\n",
    "            for i, data_point in enumerate(data):\n",
    "                fidelity_to_centroids = [self.calculate_fidelity(self.encode_data(self.init_state(), data_point), self.encode_data(self.init_state(), centroid)) for centroid in centroids]\n",
    "                cluster_labels[i] = np.argmax(fidelity_to_centroids)\n",
    "\n",
    "        return self.cluster_labels, self.centroids\n",
    "    \n",
    "        \n",
    "    def fit(self, X, y=None):\n",
    "        \"\"\"\n",
    "        Perform quantum clustering.\n",
    "\n",
    "        Args:\n",
    "            data (numpy.ndarray): Input data points.\n",
    "            k (int): Number of clusters.\n",
    "\n",
    "        Returns:\n",
    "            Tuple[numpy.ndarray, numpy.ndarray]: Cluster labels and centroids.\n",
    "        \"\"\"\n",
    "        # Step 1: Initialize centroids randomly\n",
    "        centroids = self.init_centroids(X)\n",
    "\n",
    "        # Step 2: Assign data points to the nearest centroid\n",
    "        self.cluster_labels = self.find_closest_centoids(X, self.centroids)\n",
    "\n",
    "        # Step 3: Update centroids until convergence\n",
    "        self.cluster_labels, self.centroids = self.update_centroids(X, self.k, self.centroids, self.cluster_labels)\n",
    "\n",
    "        return self.cluster_labels, self.centroids\n",
    "    \n",
    "    def predict(self, new_data: np.ndarray) -> np.ndarray:\n",
    "        \"\"\"\n",
    "        Predict cluster labels for new data.\n",
    "\n",
    "        Args:\n",
    "            new_data (numpy.ndarray): New data points.\n",
    "            centroids (numpy.ndarray): Cluster centroids.\n",
    "\n",
    "        Returns:\n",
    "            numpy.ndarray: Predicted cluster labels for new data.\n",
    "        \"\"\"\n",
    "\n",
    "        cluster_labels = np.zeros(new_data.shape[0])\n",
    "        for i, data_point in enumerate(new_data):\n",
    "            # Calculate fidelity to centroids\n",
    "            fidelity_to_centroids = [self.calculate_fidelity(self.encode_data(self.init_state(), data_point), self.encode_data(self.init_state(), centroid)) for centroid in self.centroids]\n",
    "            # Assign the data point to the nearest centroid\n",
    "            cluster_labels[i] = np.argmax(fidelity_to_centroids)\n",
    "\n",
    "        return cluster_labels"
   ]
  },
  {
   "cell_type": "code",
   "execution_count": 51,
   "metadata": {},
   "outputs": [],
   "source": [
    "kmeans = K_means()"
   ]
  },
  {
   "cell_type": "code",
   "execution_count": 52,
   "metadata": {},
   "outputs": [],
   "source": [
    "cluster_labels, centroids = kmeans.fit(feature)"
   ]
  },
  {
   "cell_type": "code",
   "execution_count": 53,
   "metadata": {},
   "outputs": [
    {
     "name": "stdout",
     "output_type": "stream",
     "text": [
      "[0. 0. 0. 0. 0. 0. 0. 0. 0. 0. 0. 0. 0. 0. 0. 0. 0. 0. 0. 0. 0. 0. 0. 0.\n",
      " 0. 0. 0. 0. 0. 0. 0. 0. 0. 0. 0. 0. 0. 0. 0. 0. 0. 0. 0. 0. 0. 0. 0. 0.\n",
      " 0. 0. 0. 0. 0. 0. 0. 0. 0. 0. 0. 0. 0. 0. 0. 0. 0. 0. 0. 0. 0. 0. 0. 0.\n",
      " 0. 0. 0. 0. 0. 0. 0. 0. 0. 0. 0. 0. 0. 0. 0. 0. 0. 0. 0. 0. 0. 0. 0. 0.\n",
      " 0. 0. 0. 0. 1. 1. 1. 1. 1. 1. 1. 1. 1. 1. 1. 1. 1. 1. 1. 1. 1. 1. 1. 1.\n",
      " 1. 1. 1. 1. 1. 1. 1. 1. 1. 1. 1. 1. 1. 1. 1. 1. 1. 1. 1. 1. 1. 1. 1. 1.\n",
      " 1. 1. 1. 1. 1. 1. 1. 1. 1. 1. 1. 1. 1. 1. 1. 1. 1. 1. 1. 1. 1. 1. 1. 1.\n",
      " 1. 1. 1. 1. 1. 1. 1. 1. 1. 1. 1. 1. 1. 1. 1. 1. 1. 1. 1. 1. 1. 1. 1. 1.\n",
      " 1. 1. 1. 1. 1. 1. 1. 1.]\n"
     ]
    }
   ],
   "source": [
    "print(cluster_labels)"
   ]
  },
  {
   "cell_type": "code",
   "execution_count": 54,
   "metadata": {},
   "outputs": [
    {
     "name": "stdout",
     "output_type": "stream",
     "text": [
      "[ 2.02490602 -1.99905962]\n"
     ]
    }
   ],
   "source": [
    "print(centroids)"
   ]
  },
  {
   "cell_type": "code",
   "execution_count": 55,
   "metadata": {},
   "outputs": [
    {
     "name": "stdout",
     "output_type": "stream",
     "text": [
      "[1.]\n"
     ]
    }
   ],
   "source": [
    "data_point = np.array([100])\n",
    "cluster_label = kmeans.predict(data_point)\n",
    "\n",
    "print(cluster_label)"
   ]
  },
  {
   "cell_type": "code",
   "execution_count": 56,
   "metadata": {},
   "outputs": [
    {
     "name": "stdout",
     "output_type": "stream",
     "text": [
      "[0.]\n"
     ]
    }
   ],
   "source": [
    "data_point = np.array([90])\n",
    "cluster_label = kmeans.predict(data_point)\n",
    "\n",
    "print(cluster_label)"
   ]
  },
  {
   "cell_type": "markdown",
   "metadata": {},
   "source": [
    "## Pipeline"
   ]
  },
  {
   "cell_type": "code",
   "execution_count": 57,
   "metadata": {},
   "outputs": [],
   "source": [
    "pipeline = Pipeline([\n",
    "    ('kmeans', kmeans)\n",
    "])"
   ]
  },
  {
   "cell_type": "code",
   "execution_count": 58,
   "metadata": {},
   "outputs": [
    {
     "data": {
      "text/plain": [
       "Pipeline(steps=[('kmeans', <__main__.K_means object at 0x000001E87309E6A0>)])"
      ]
     },
     "execution_count": 58,
     "metadata": {},
     "output_type": "execute_result"
    }
   ],
   "source": [
    "pipeline.fit(feature)"
   ]
  },
  {
   "cell_type": "markdown",
   "metadata": {},
   "source": [
    "**Predict**"
   ]
  },
  {
   "cell_type": "code",
   "execution_count": 59,
   "metadata": {},
   "outputs": [
    {
     "name": "stdout",
     "output_type": "stream",
     "text": [
      "Cluster label [0.]\n"
     ]
    }
   ],
   "source": [
    "data_point = np.array([100])\n",
    "cluster_label = pipeline.predict(data_point)\n",
    "\n",
    "print(\"Cluster label\", cluster_label)"
   ]
  },
  {
   "cell_type": "code",
   "execution_count": null,
   "metadata": {},
   "outputs": [],
   "source": []
  }
 ],
 "metadata": {
  "colab": {
   "provenance": []
  },
  "kernelspec": {
   "display_name": "Python 3",
   "language": "python",
   "name": "python3"
  },
  "language_info": {
   "codemirror_mode": {
    "name": "ipython",
    "version": 3
   },
   "file_extension": ".py",
   "mimetype": "text/x-python",
   "name": "python",
   "nbconvert_exporter": "python",
   "pygments_lexer": "ipython3",
   "version": "3.8.5"
  }
 },
 "nbformat": 4,
 "nbformat_minor": 1
}
